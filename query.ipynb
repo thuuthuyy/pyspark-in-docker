{
 "cells": [
  {
   "cell_type": "code",
   "execution_count": 56,
   "metadata": {},
   "outputs": [],
   "source": [
    "from pyspark.sql import SparkSession\n",
    "spark = SparkSession.builder \\\n",
    "    .appName(\"mySQLite\") \\\n",
    "    .config(\"spark.jars.packages\", \"org.xerial:sqlite-jdbc:3.46.0.0\") \\\n",
    "    .getOrCreate()"
   ]
  },
  {
   "cell_type": "code",
   "execution_count": 57,
   "metadata": {},
   "outputs": [],
   "source": [
    "# Define URL JDBC và các thuộc tính kết nối\n",
    "jdbc_url = \"jdbc:sqlite:/myProject/yelp.db\"  # URL JDBC cho cơ sở dữ liệu SQLite\n",
    "connection_properties = {\n",
    "    \"driver\": \"org.sqlite.JDBC\"  # Chỉ định lớp driver cho SQLite\n",
    "}\n",
    "\n",
    "df = spark.read.jdbc(url=jdbc_url, table=\"yelp\", properties=connection_properties)"
   ]
  },
  {
   "cell_type": "code",
   "execution_count": 58,
   "metadata": {},
   "outputs": [],
   "source": [
    "#Turn off WARNING\n",
    "import logging\n",
    "from pyspark.sql import SparkSession\n",
    "logging.getLogger('py4j').setLevel(logging.ERROR)\n",
    "spark.sparkContext.setLogLevel(\"ERROR\")\n"
   ]
  },
  {
   "cell_type": "code",
   "execution_count": 59,
   "metadata": {},
   "outputs": [
    {
     "name": "stdout",
     "output_type": "stream",
     "text": [
      "+-----------+--------------------+------+------------+--------+-----+--------------+--------------------+--------+\n",
      "|      Phone|        Organization|Rating|NumberReview|Category|State|          City|              Street|Building|\n",
      "+-----------+--------------------+------+------------+--------+-----+--------------+--------------------+--------+\n",
      "|12562343500|  The Station's Best|   4.0|           4|Delivery|   AL|Alexander City|           Jefferson|     977|\n",
      "|12566758004|           Pizza Hut|   3.0|           6|Delivery|   AL|Alexander City|            4581 Hwy|    4581|\n",
      "|12562342181|Zaxby's Chicken F...|   3.0|          13|Delivery|   AL|Alexander City|        4497 Highway|    4497|\n",
      "|12564097272|   Papa John's Pizza|   1.0|           1|Delivery|   AL|Alexander City|       2064 Cherokee|    2064|\n",
      "|12562155510|              Arby's|   2.0|           7|Delivery|   AL|Alexander City|            2593 Hwy|    2593|\n",
      "|12562343500|  The Station's Best|   4.0|           4|Delivery|   AL|Alexander City|           Jefferson|     977|\n",
      "|12566758004|           Pizza Hut|   3.0|           6|Delivery|   AL|Alexander City|            4581 Hwy|    4581|\n",
      "|12562342181|Zaxby's Chicken F...|   3.0|          13|Delivery|   AL|Alexander City|        4497 Highway|    4497|\n",
      "|12564097272|   Papa John's Pizza|   1.0|           1|Delivery|   AL|Alexander City|       2064 Cherokee|    2064|\n",
      "|12562155510|              Arby's|   2.0|           7|Delivery|   AL|Alexander City|            2593 Hwy|    2593|\n",
      "|13342221398|       Happy Kitchen|   3.5|          11|Delivery|   AL|     Andalusia|    700 Western Gate|     700|\n",
      "|13344271400|Ophelia's Italian...|   3.5|          30|Delivery|   AL|     Andalusia|         River Falls|     401|\n",
      "|13342224106|           Pizza Hut|   1.5|           3|Delivery|   AL|     Andalusia| 1203 Dr Martin L...|    1203|\n",
      "|13345828484|Zaxby's Chicken F...|   3.5|          12|Delivery|   AL|     Andalusia|         River Falls|    1000|\n",
      "|13344278969|              Arby's|   2.0|           5|Delivery|   AL|     Andalusia|       326 Dr Mlk Jr|     326|\n",
      "|13344278969|              Arby's|   1.0|           3|Delivery|   AL|     Andalusia|               328 W|     328|\n",
      "|13342225005|Tropical Smoothie...|   3.0|           3|Delivery|   AL|     Andalusia|            411 West|     411|\n",
      "|12567707256|         Thai One On|   4.0|          92|Delivery|   AL|      Anniston|               Noble|     911|\n",
      "|12562360305|       House Of Chen|   4.0|          10|Delivery|   AL|      Anniston|              E 43rd|       4|\n",
      "|12568319981|Jasmine Chinese T...|   4.0|          32|Delivery|   AL|        Oxford|                Snow|    1225|\n",
      "+-----------+--------------------+------+------------+--------+-----+--------------+--------------------+--------+\n",
      "only showing top 20 rows\n",
      "\n"
     ]
    }
   ],
   "source": [
    "df.show()"
   ]
  },
  {
   "cell_type": "code",
   "execution_count": 60,
   "metadata": {},
   "outputs": [
    {
     "data": {
      "text/plain": [
       "1000000"
      ]
     },
     "execution_count": 60,
     "metadata": {},
     "output_type": "execute_result"
    }
   ],
   "source": [
    "df.count()"
   ]
  },
  {
   "cell_type": "markdown",
   "metadata": {},
   "source": [
    "Create operation"
   ]
  },
  {
   "cell_type": "code",
   "execution_count": 61,
   "metadata": {},
   "outputs": [
    {
     "name": "stderr",
     "output_type": "stream",
     "text": [
      "                                                                                \r"
     ]
    },
    {
     "data": {
      "text/plain": [
       "1000001"
      ]
     },
     "execution_count": 61,
     "metadata": {},
     "output_type": "execute_result"
    }
   ],
   "source": [
    "from pyspark.sql import Row\n",
    "\n",
    "# Tạo một hàng dữ liệu mới\n",
    "new_row = Row(Phone = 1284680203, Organization = 'ChickenGarden', Rating = 3.0, NumberReview = 100, Category = 'Chicken', State = 'AL', City = 'Oxford', Street = 'Beclin', Building = '131' )\n",
    "# Tạo DataFrame mới (new_df) chỉ có new_row\n",
    "new_df = spark.createDataFrame([new_row], schema=df.schema)\n",
    "\n",
    "df = df.union(new_df)\n",
    "\n",
    "df.tail(3)\n",
    "df.count()\n"
   ]
  },
  {
   "cell_type": "markdown",
   "metadata": {},
   "source": [
    "Delete Operation"
   ]
  },
  {
   "cell_type": "code",
   "execution_count": 62,
   "metadata": {},
   "outputs": [
    {
     "name": "stdout",
     "output_type": "stream",
     "text": [
      "999999\n"
     ]
    },
    {
     "data": {
      "text/plain": [
       "[Row(Phone=12562343500, Organization=\"The Station's Best\", Rating=4.0, NumberReview=4, Category='Delivery', State='AL', City='Alexander City', Street=' Jefferson', Building='977'),\n",
       " Row(Phone=12566758004, Organization='Pizza Hut', Rating=3.0, NumberReview=6, Category='Delivery', State='AL', City='Alexander City', Street=' 4581 Hwy', Building='4581'),\n",
       " Row(Phone=12562342181, Organization=\"Zaxby's Chicken Fingers & Buffalo Wings\", Rating=3.0, NumberReview=13, Category='Delivery', State='AL', City='Alexander City', Street=' 4497 Highway', Building='4497'),\n",
       " Row(Phone=12564097272, Organization=\"Papa John's Pizza\", Rating=1.0, NumberReview=1, Category='Delivery', State='AL', City='Alexander City', Street=' 2064 Cherokee', Building='2064'),\n",
       " Row(Phone=12562155510, Organization=\"Arby's\", Rating=2.0, NumberReview=7, Category='Delivery', State='AL', City='Alexander City', Street=' 2593 Hwy', Building='2593'),\n",
       " Row(Phone=12562343500, Organization=\"The Station's Best\", Rating=4.0, NumberReview=4, Category='Delivery', State='AL', City='Alexander City', Street=' Jefferson', Building='977'),\n",
       " Row(Phone=12566758004, Organization='Pizza Hut', Rating=3.0, NumberReview=6, Category='Delivery', State='AL', City='Alexander City', Street=' 4581 Hwy', Building='4581'),\n",
       " Row(Phone=12562342181, Organization=\"Zaxby's Chicken Fingers & Buffalo Wings\", Rating=3.0, NumberReview=13, Category='Delivery', State='AL', City='Alexander City', Street=' 4497 Highway', Building='4497'),\n",
       " Row(Phone=12564097272, Organization=\"Papa John's Pizza\", Rating=1.0, NumberReview=1, Category='Delivery', State='AL', City='Alexander City', Street=' 2064 Cherokee', Building='2064'),\n",
       " Row(Phone=12562155510, Organization=\"Arby's\", Rating=2.0, NumberReview=7, Category='Delivery', State='AL', City='Alexander City', Street=' 2593 Hwy', Building='2593'),\n",
       " Row(Phone=13344271400, Organization=\"Ophelia's Italian Restaurant\", Rating=3.5, NumberReview=30, Category='Delivery', State='AL', City='Andalusia', Street=' River Falls', Building='401'),\n",
       " Row(Phone=13342224106, Organization='Pizza Hut', Rating=1.5, NumberReview=3, Category='Delivery', State='AL', City='Andalusia', Street=' 1203 Dr Martin Luther King Jr', Building='1203')]"
      ]
     },
     "execution_count": 62,
     "metadata": {},
     "output_type": "execute_result"
    }
   ],
   "source": [
    "df = df.filter(~((df.Phone == 13342221398) & \n",
    "                 (df.Organization == 'Happy Kitchen') & \n",
    "                 (df.Rating == 3.5) & \n",
    "                 (df.NumberReview == 11) & \n",
    "                 (df.Category == 'Delivery') & \n",
    "                 (df.State == 'AL') & \n",
    "                 (df.City == 'Andalusia') & \n",
    "                 (df.Street == ' 700 Western Gate') & \n",
    "                 (df.Building == '700')))\n",
    "\n",
    "print(df.count())\n",
    "df.head(12)\n",
    "#Row 12"
   ]
  },
  {
   "cell_type": "markdown",
   "metadata": {},
   "source": [
    "Update operation"
   ]
  },
  {
   "cell_type": "code",
   "execution_count": 63,
   "metadata": {},
   "outputs": [
    {
     "data": {
      "text/plain": [
       "[Row(Phone=12562343500, Organization=\"The Station's Best\", Rating=4.0, NumberReview=4, Category='Delivery', State='AL', City='Alexander City', Street=' Jefferson', Building='977'),\n",
       " Row(Phone=12566758004, Organization='Pizza Hut', Rating=3.0, NumberReview=7, Category='Delivery', State='AL', City='Alexander City', Street=' 4581 Hwy', Building='4581'),\n",
       " Row(Phone=12562342181, Organization=\"Zaxby's Chicken Fingers & Buffalo Wings\", Rating=3.0, NumberReview=13, Category='Delivery', State='AL', City='Alexander City', Street=' 4497 Highway', Building='4497'),\n",
       " Row(Phone=12564097272, Organization=\"Papa John's Pizza\", Rating=1.0, NumberReview=1, Category='Delivery', State='AL', City='Alexander City', Street=' 2064 Cherokee', Building='2064'),\n",
       " Row(Phone=12562155510, Organization=\"Arby's\", Rating=2.0, NumberReview=7, Category='Delivery', State='AL', City='Alexander City', Street=' 2593 Hwy', Building='2593'),\n",
       " Row(Phone=12562343500, Organization=\"The Station's Best\", Rating=4.0, NumberReview=4, Category='Delivery', State='AL', City='Alexander City', Street=' Jefferson', Building='977'),\n",
       " Row(Phone=12566758004, Organization='Pizza Hut', Rating=3.0, NumberReview=7, Category='Delivery', State='AL', City='Alexander City', Street=' 4581 Hwy', Building='4581'),\n",
       " Row(Phone=12562342181, Organization=\"Zaxby's Chicken Fingers & Buffalo Wings\", Rating=3.0, NumberReview=13, Category='Delivery', State='AL', City='Alexander City', Street=' 4497 Highway', Building='4497'),\n",
       " Row(Phone=12564097272, Organization=\"Papa John's Pizza\", Rating=1.0, NumberReview=1, Category='Delivery', State='AL', City='Alexander City', Street=' 2064 Cherokee', Building='2064'),\n",
       " Row(Phone=12562155510, Organization=\"Arby's\", Rating=2.0, NumberReview=7, Category='Delivery', State='AL', City='Alexander City', Street=' 2593 Hwy', Building='2593')]"
      ]
     },
     "execution_count": 63,
     "metadata": {},
     "output_type": "execute_result"
    }
   ],
   "source": [
    "from pyspark.sql.functions import when\n",
    "\n",
    "# Update the DataFrame to change the NumberReview columns\n",
    "df = df.withColumn('NumberReview', when((df.Organization == 'Pizza Hut') & (df.City == 'Alexander City') & (df.Rating == 3), 7).otherwise(df.NumberReview))\n",
    "\n",
    "df.head(10)\n"
   ]
  },
  {
   "cell_type": "markdown",
   "metadata": {},
   "source": [
    "Read operation"
   ]
  },
  {
   "cell_type": "code",
   "execution_count": 64,
   "metadata": {},
   "outputs": [
    {
     "name": "stdout",
     "output_type": "stream",
     "text": [
      "+-----------+--------------------+------+------------+--------+-----+------------+------------------+--------+\n",
      "|      Phone|        Organization|Rating|NumberReview|Category|State|        City|            Street|Building|\n",
      "+-----------+--------------------+------+------------+--------+-----+------------+------------------+--------+\n",
      "|12568483131|       Marco's Pizza|   4.5|           3|Delivery|   AL|    Anniston|   2485 US Hwy 431|    2485|\n",
      "|12563652001|        Jimmy John's|   4.5|           2|Delivery|   AL|Jacksonville|     505 Pelham Rd|     505|\n",
      "|12564357272|   Papa John's Pizza|   4.5|           2|Delivery|   AL|Jacksonville|  702 South Pelham|     702|\n",
      "|12564444005| Ramona Js Resturant|   5.0|           6|Delivery|   AL|      Athens|    1212 US Hwy 31|    1212|\n",
      "|12562323000|   Papa John's Pizza|   4.5|           3|Delivery|   AL|      Athens| 916 Us Highway 72|     916|\n",
      "|12562161099|       Papa Murphy's|   5.0|           1|Delivery|   AL|      Athens|       1001 Hwy 72|    1001|\n",
      "|12568581600|     Al Shish Palace|   4.5|          56|Delivery|   AL|     Madison|       1591 Hughes|    1591|\n",
      "|12567215527|              Subway|   4.5|           3|Delivery|   AL|     Madison|   8580 Highway 72|    8580|\n",
      "|12518674664|              Arby's|   5.0|           1|Delivery|   AL|     Brewton|         380 South|     380|\n",
      "|18505424316|           Thai Rice|   4.5|           9|Delivery|   FL|   Pensacola|      7175 N Davis|    7175|\n",
      "|12519900995|Gambino's Italian...|   4.5|         305|Delivery|   AL|    Fairhope|         18 Laurel|      18|\n",
      "|18504774424|     Sky's Pizza Pie|   4.5|         313|Delivery|   FL|   Pensacola|      5559 N Davis|    5559|\n",
      "|12516256550|       Marco's Pizza|   4.5|          20|Delivery|   AL|      Daphne|       2004 US Hwy|    2004|\n",
      "|12514385234|                 219|   4.5|          56|Delivery|   AL|      Mobile|             Conti|     219|\n",
      "|12512642520| Buster's Brick Oven|   4.5|          16|Delivery|   AL|      Daphne|              Main|    1711|\n",
      "|12515177536|Sage Lebanese Cui...|   5.0|         133|Delivery|   AL|    Fairhope|      319 Fairhope|     319|\n",
      "|12517256912|   Iron Hand Brewing|   4.5|          27|Delivery|   AL|      Mobile|             State|     206|\n",
      "|12516264065|     Roll & Go Sushi|   5.0|           1|Delivery|   AL|      Daphne|       1410 US Hwy|    1410|\n",
      "|12518880999|         Biryani Pot|   4.5|          32|Delivery|   AL|      Mobile|    758 Downtowner|     758|\n",
      "|18504952458|       I Heart Bento|   4.5|          86|Delivery|   FL|   Pensacola|      875 E 9 Mile|     875|\n",
      "+-----------+--------------------+------+------------+--------+-----+------------+------------------+--------+\n",
      "only showing top 20 rows\n",
      "\n",
      "292134\n"
     ]
    }
   ],
   "source": [
    "filtered_df = df.filter(df.Rating > 4)\n",
    "\n",
    "# Show the filtered DataFrame\n",
    "filtered_df.show()\n",
    "print(filtered_df.count())"
   ]
  },
  {
   "cell_type": "markdown",
   "metadata": {},
   "source": [
    "The performance of some queries"
   ]
  },
  {
   "cell_type": "code",
   "execution_count": 65,
   "metadata": {},
   "outputs": [
    {
     "name": "stdout",
     "output_type": "stream",
     "text": [
      "+-----------+--------------------+------+------------+--------+-----+--------------+--------------+--------+\n",
      "|      Phone|        Organization|Rating|NumberReview|Category|State|          City|        Street|Building|\n",
      "+-----------+--------------------+------+------------+--------+-----+--------------+--------------+--------+\n",
      "|12562343500|  The Station's Best|   4.0|           4|Delivery|   AL|Alexander City|     Jefferson|     977|\n",
      "|12566758004|           Pizza Hut|   3.0|           7|Delivery|   AL|Alexander City|      4581 Hwy|    4581|\n",
      "|12562342181|Zaxby's Chicken F...|   3.0|          13|Delivery|   AL|Alexander City|  4497 Highway|    4497|\n",
      "|12564097272|   Papa John's Pizza|   1.0|           1|Delivery|   AL|Alexander City| 2064 Cherokee|    2064|\n",
      "|12562155510|              Arby's|   2.0|           7|Delivery|   AL|Alexander City|      2593 Hwy|    2593|\n",
      "+-----------+--------------------+------+------------+--------+-----+--------------+--------------+--------+\n",
      "only showing top 5 rows\n",
      "\n",
      "CPU times: user 4.54 ms, sys: 1.63 ms, total: 6.17 ms\n",
      "Wall time: 237 ms\n"
     ]
    }
   ],
   "source": [
    "%%time\n",
    "df.createOrReplaceTempView(\"yelp\")\n",
    "spark.sql(\"SELECT * FROM yelp\").show(5)"
   ]
  },
  {
   "cell_type": "code",
   "execution_count": 66,
   "metadata": {},
   "outputs": [
    {
     "name": "stdout",
     "output_type": "stream",
     "text": [
      "+-----------+-------------------+------+------------+--------+-----+------------+------------------+--------+\n",
      "|      Phone|       Organization|Rating|NumberReview|Category|State|        City|            Street|Building|\n",
      "+-----------+-------------------+------+------------+--------+-----+------------+------------------+--------+\n",
      "|12568483131|      Marco's Pizza|   4.5|           3|Delivery|   AL|    Anniston|   2485 US Hwy 431|    2485|\n",
      "|12563652001|       Jimmy John's|   4.5|           2|Delivery|   AL|Jacksonville|     505 Pelham Rd|     505|\n",
      "|12564357272|  Papa John's Pizza|   4.5|           2|Delivery|   AL|Jacksonville|  702 South Pelham|     702|\n",
      "|12564444005|Ramona Js Resturant|   5.0|           6|Delivery|   AL|      Athens|    1212 US Hwy 31|    1212|\n",
      "|12562323000|  Papa John's Pizza|   4.5|           3|Delivery|   AL|      Athens| 916 Us Highway 72|     916|\n",
      "+-----------+-------------------+------+------------+--------+-----+------------+------------------+--------+\n",
      "only showing top 5 rows\n",
      "\n",
      "CPU times: user 0 ns, sys: 5.01 ms, total: 5.01 ms\n",
      "Wall time: 151 ms\n"
     ]
    }
   ],
   "source": [
    "%%time\n",
    "spark.sql(\"SELECT * FROM yelp WHERE Rating > 4\").show(5)"
   ]
  },
  {
   "cell_type": "code",
   "execution_count": 69,
   "metadata": {},
   "outputs": [
    {
     "name": "stderr",
     "output_type": "stream",
     "text": [
      "[Stage 157:==================================================>      (8 + 1) / 9]\r"
     ]
    },
    {
     "name": "stdout",
     "output_type": "stream",
     "text": [
      "+----------------+-----------------+\n",
      "|            City|TotalNumberReview|\n",
      "+----------------+-----------------+\n",
      "|         Jemison|               25|\n",
      "|      Prattville|             1093|\n",
      "|       Fairbanks|             2334|\n",
      "| Rancho Bernardo|              177|\n",
      "|     Santa Paula|             1322|\n",
      "|          Agawam|             1625|\n",
      "|         Kilauea|              180|\n",
      "|         Antwerp|                7|\n",
      "|         Minster|               27|\n",
      "|        Bluffton|              380|\n",
      "|         Hanover|             9924|\n",
      "|          Grimes|              672|\n",
      "|        Fredonia|              264|\n",
      "|          Nahant|              600|\n",
      "|       Worcester|            12847|\n",
      "|North Saint Paul|               14|\n",
      "|         Palermo|               56|\n",
      "|      Westampton|              618|\n",
      "|  West Sand Lake|              104|\n",
      "|       Rhinebeck|              640|\n",
      "+----------------+-----------------+\n",
      "only showing top 20 rows\n",
      "\n",
      "CPU times: user 6.51 ms, sys: 2.36 ms, total: 8.87 ms\n",
      "Wall time: 2.84 s\n"
     ]
    },
    {
     "name": "stderr",
     "output_type": "stream",
     "text": [
      "                                                                                \r"
     ]
    }
   ],
   "source": [
    "%%time\n",
    "spark.sql(\"SELECT City, SUM(NumberReview) as TotalNumberReview FROM yelp GROUP BY City\").show()\n"
   ]
  },
  {
   "cell_type": "code",
   "execution_count": 67,
   "metadata": {},
   "outputs": [
    {
     "name": "stderr",
     "output_type": "stream",
     "text": [
      "[Stage 151:==================================================>      (8 + 1) / 9]\r"
     ]
    },
    {
     "name": "stdout",
     "output_type": "stream",
     "text": [
      "+------------+-----------------+\n",
      "|        City|TotalNumberReview|\n",
      "+------------+-----------------+\n",
      "|  Prattville|              155|\n",
      "|   Fairbanks|              588|\n",
      "| Santa Paula|              524|\n",
      "|      Agawam|              616|\n",
      "|     Kilauea|              167|\n",
      "|     Minster|                6|\n",
      "|      Grimes|               32|\n",
      "|     Hanover|              814|\n",
      "|   Worcester|             1968|\n",
      "|     Palermo|               37|\n",
      "|    Fredonia|               89|\n",
      "|   Rhinebeck|              306|\n",
      "| Johnsonburg|               30|\n",
      "|       Tyler|              200|\n",
      "|Saint George|              303|\n",
      "|     Jemison|               11|\n",
      "|  Hanceville|                4|\n",
      "|    Moreland|                7|\n",
      "|  Santee Cal|                9|\n",
      "|    Bluffton|               28|\n",
      "+------------+-----------------+\n",
      "only showing top 20 rows\n",
      "\n",
      "CPU times: user 5.12 ms, sys: 1.85 ms, total: 6.97 ms\n",
      "Wall time: 1.56 s\n"
     ]
    },
    {
     "name": "stderr",
     "output_type": "stream",
     "text": [
      "                                                                                \r"
     ]
    }
   ],
   "source": [
    "%%time\n",
    "spark.sql(\"SELECT City, SUM(NumberReview) as TotalNumberReview FROM yelp WHERE Rating > 4 GROUP BY City\").show()\n",
    "\n",
    "# Hiển thị tổng số lượt đánh giá (TotalNumberReview) cho mỗi City có Rating lớn hơn 4."
   ]
  },
  {
   "cell_type": "code",
   "execution_count": 68,
   "metadata": {},
   "outputs": [
    {
     "name": "stderr",
     "output_type": "stream",
     "text": [
      "[Stage 154:==================================================>      (8 + 1) / 9]\r"
     ]
    },
    {
     "name": "stdout",
     "output_type": "stream",
     "text": [
      "+-------------+-----------------+\n",
      "|         City|TotalNumberReview|\n",
      "+-------------+-----------------+\n",
      "|   Prattville|              155|\n",
      "|    Fairbanks|              588|\n",
      "|  Santa Paula|              524|\n",
      "|       Agawam|              616|\n",
      "|      Kilauea|              167|\n",
      "|      Hanover|              814|\n",
      "|    Worcester|             1968|\n",
      "|    Rhinebeck|              306|\n",
      "|        Tyler|              200|\n",
      "| Saint George|              303|\n",
      "|       Nahant|              420|\n",
      "|        Tempe|            50837|\n",
      "|       Corona|            52141|\n",
      "|     Leucadia|              544|\n",
      "|  Marcus Hook|              110|\n",
      "|  Springfield|            12637|\n",
      "|   Charleston|            11240|\n",
      "|Bowling Green|              827|\n",
      "|      Truckee|             2118|\n",
      "|     Oakhurst|              120|\n",
      "+-------------+-----------------+\n",
      "only showing top 20 rows\n",
      "\n",
      "CPU times: user 9.06 ms, sys: 0 ns, total: 9.06 ms\n",
      "Wall time: 1.34 s\n"
     ]
    },
    {
     "name": "stderr",
     "output_type": "stream",
     "text": [
      "                                                                                \r"
     ]
    }
   ],
   "source": [
    "%%time\n",
    "spark.sql(\"SELECT City, SUM(NumberReview) as TotalNumberReview FROM yelp WHERE Rating > 4 GROUP BY City HAVING TotalNumberReview > 100\").show()\n",
    "\n",
    "# Thực hiện câu lệnh SQL để tính tổng giá trị (SUM(NumberReview)) của các hàng có Rating lớn hơn 4\n",
    "# Nhóm kết quả theo City, và chỉ hiển thị các nhóm có SUM(NumberReview) lớn hơn 100."
   ]
  },
  {
   "cell_type": "code",
   "execution_count": null,
   "metadata": {},
   "outputs": [],
   "source": []
  }
 ],
 "metadata": {
  "kernelspec": {
   "display_name": "Python 3 (ipykernel)",
   "language": "python",
   "name": "python3"
  },
  "language_info": {
   "codemirror_mode": {
    "name": "ipython",
    "version": 3
   },
   "file_extension": ".py",
   "mimetype": "text/x-python",
   "name": "python",
   "nbconvert_exporter": "python",
   "pygments_lexer": "ipython3",
   "version": "3.9.6"
  }
 },
 "nbformat": 4,
 "nbformat_minor": 4
}
