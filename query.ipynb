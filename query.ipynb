{
 "cells": [
  {
   "cell_type": "code",
   "execution_count": 3,
   "metadata": {},
   "outputs": [
    {
     "ename": "ModuleNotFoundError",
     "evalue": "No module named 'pyspark'",
     "output_type": "error",
     "traceback": [
      "\u001b[1;31m---------------------------------------------------------------------------\u001b[0m",
      "\u001b[1;31mModuleNotFoundError\u001b[0m                       Traceback (most recent call last)",
      "Cell \u001b[1;32mIn[3], line 1\u001b[0m\n\u001b[1;32m----> 1\u001b[0m \u001b[38;5;28;01mfrom\u001b[39;00m \u001b[38;5;21;01mpyspark\u001b[39;00m\u001b[38;5;21;01m.\u001b[39;00m\u001b[38;5;21;01msql\u001b[39;00m \u001b[38;5;28;01mimport\u001b[39;00m SparkSession\n\u001b[0;32m      2\u001b[0m spark \u001b[38;5;241m=\u001b[39m SparkSession\u001b[38;5;241m.\u001b[39mbuilder \\\n\u001b[0;32m      3\u001b[0m     \u001b[38;5;241m.\u001b[39mappName(\u001b[38;5;124m\"\u001b[39m\u001b[38;5;124mmySQLite\u001b[39m\u001b[38;5;124m\"\u001b[39m) \\\n\u001b[0;32m      4\u001b[0m     \u001b[38;5;241m.\u001b[39mconfig(\u001b[38;5;124m\"\u001b[39m\u001b[38;5;124mspark.jars\u001b[39m\u001b[38;5;124m\"\u001b[39m, \u001b[38;5;124m\"\u001b[39m\u001b[38;5;124m/path/to/sqlite-jdbc-3.34.0.jar\u001b[39m\u001b[38;5;124m\"\u001b[39m) \\\n\u001b[0;32m      5\u001b[0m     \u001b[38;5;241m.\u001b[39mgetOrCreate()\n",
      "\u001b[1;31mModuleNotFoundError\u001b[0m: No module named 'pyspark'"
     ]
    }
   ],
   "source": [
    "from pyspark.sql import SparkSession\n",
    "spark = SparkSession.builder \\\n",
    "    .appName(\"mySQLite\") \\\n",
    "    .config(\"spark.jars\", \"/path/to/sqlite-jdbc-3.34.0.jar\") \\\n",
    "    .getOrCreate()"
   ]
  },
  {
   "cell_type": "code",
   "execution_count": null,
   "metadata": {},
   "outputs": [],
   "source": [
    "# Define URL JDBC và các thuộc tính kết nối\n",
    "jdbc_url = \"jdbc:sqlite:/myProject/yelp.db\"  # URL JDBC cho cơ sở dữ liệu SQLite\n",
    "connection_properties = {\n",
    "    \"driver\": \"org.sqlite.JDBC\"  # Chỉ định lớp driver cho SQLite\n",
    "}\n",
    "\n",
    "df = spark.read.jdbc(url=jdbc_url, table=\"yelp\", properties=connection_properties)"
   ]
  },
  {
   "cell_type": "code",
   "execution_count": null,
   "metadata": {},
   "outputs": [],
   "source": [
    "df.show()"
   ]
  },
  {
   "cell_type": "code",
   "execution_count": null,
   "metadata": {},
   "outputs": [],
   "source": [
    "df.count()"
   ]
  },
  {
   "cell_type": "markdown",
   "metadata": {},
   "source": [
    "Create operation"
   ]
  },
  {
   "cell_type": "code",
   "execution_count": null,
   "metadata": {},
   "outputs": [],
   "source": [
    "from pyspark.sql import Row\n",
    "\n",
    "# Tạo một hàng dữ liệu mới\n",
    "new_row = Row(Phone = '1284680203', Organization = 'ChickenGarden', Rating = 3, NumberReview = 100, Category = 'Chicken', State = 'AL', City = 'Oxford', Street = 'Beclin', Building = '131' )\n",
    "# Tạo DataFrame mới (new_df) chỉ có new_row\n",
    "new_df = spark.createDataFrame([new_row], schema=df.schema)\n",
    "# Thêm DataFrame mới vào DataFrame hiện tại (df):\n",
    "df = df.union(new_df)\n",
    "\n",
    "df.tail(3)\n",
    "df.count()"
   ]
  },
  {
   "cell_type": "markdown",
   "metadata": {},
   "source": [
    "Delete Operation"
   ]
  },
  {
   "cell_type": "code",
   "execution_count": null,
   "metadata": {},
   "outputs": [],
   "source": [
    "df = df.filter(~((df.Phone == '13342221398') & (df.Organization == 'Happy Kitchen') & (df.Rating == 3.5) & (df.NumberReview == 11) & (df.Category == 'Delivery') & (df.State == 'AL') & (df.City == 'Andalusia') & (df.Street == ' 700 Western Gate') & (df.Building == '700')))\n",
    "\n",
    "# Show the filtered DataFrame\n",
    "df.show()\n",
    "print(df.count())\n",
    "\n",
    "#Row 12"
   ]
  },
  {
   "cell_type": "markdown",
   "metadata": {},
   "source": [
    "Update operation"
   ]
  },
  {
   "cell_type": "code",
   "execution_count": null,
   "metadata": {},
   "outputs": [],
   "source": [
    "from pyspark.sql.functions import when\n",
    "\n",
    "# Update the DataFrame to change the NumberReview columns\n",
    "df = df.withColumn('NumberReview', when((df.Organization == 'Pizza Hut') & (df.City == 'Alexander City') & (df.Rating == 3), 7).otherwise(df.NumberReview))\n",
    "\n",
    "# Show the updated DataFrame\n",
    "df.head(10)\n"
   ]
  },
  {
   "cell_type": "markdown",
   "metadata": {},
   "source": [
    "Read operation"
   ]
  },
  {
   "cell_type": "code",
   "execution_count": null,
   "metadata": {},
   "outputs": [],
   "source": [
    "filtered_df = df.filter(df.Rating > 4)\n",
    "\n",
    "# Show the filtered DataFrame\n",
    "filtered_df.show()\n",
    "print(filtered_df.count())"
   ]
  },
  {
   "cell_type": "markdown",
   "metadata": {},
   "source": [
    "The performance of some queries"
   ]
  },
  {
   "cell_type": "code",
   "execution_count": null,
   "metadata": {},
   "outputs": [],
   "source": [
    "%%time\n",
    "df.createOrReplaceTempView(\"yelp\")\n",
    "spark.sql(\"SELECT * FROM yelp\").show(5)"
   ]
  },
  {
   "cell_type": "code",
   "execution_count": null,
   "metadata": {},
   "outputs": [],
   "source": [
    "%%time\n",
    "spark.sql(\"SELECT * FROM yelp WHERE Rating > 4\").show()"
   ]
  },
  {
   "cell_type": "code",
   "execution_count": null,
   "metadata": {},
   "outputs": [],
   "source": [
    "%%time\n",
    "spark.sql(\"SELECT City, SUM(NumberReview) as TotalNumberReview FROM yelp WHERE Rating > 4 GROUP BY City\").show()\n",
    "\n",
    "# Hiển thị tổng số lượt đánh giá (TotalNumberReview) cho mỗi City có Rating lớn hơn 4."
   ]
  },
  {
   "cell_type": "code",
   "execution_count": null,
   "metadata": {},
   "outputs": [],
   "source": [
    "%%time\n",
    "spark.sql(\"SELECT City, SUM(NumberReview) as TotalNumberReview FROM yelp WHERE Rating > 4 GROUP BY City HAVING TotalNumberReview > 100\").show()\n",
    "\n",
    "# Thực hiện câu lệnh SQL để tính tổng giá trị (SUM(NumberReview)) của các hàng có Rating lớn hơn 4\n",
    "# Nhóm kết quả theo City, và chỉ hiển thị các nhóm có SUM(NumberReview) lớn hơn 100."
   ]
  }
 ],
 "metadata": {
  "kernelspec": {
   "display_name": "Python 3",
   "language": "python",
   "name": "python3"
  },
  "language_info": {
   "codemirror_mode": {
    "name": "ipython",
    "version": 3
   },
   "file_extension": ".py",
   "mimetype": "text/x-python",
   "name": "python",
   "nbconvert_exporter": "python",
   "pygments_lexer": "ipython3",
   "version": "3.9.6"
  }
 },
 "nbformat": 4,
 "nbformat_minor": 2
}
