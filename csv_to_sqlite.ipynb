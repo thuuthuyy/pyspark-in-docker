{
 "cells": [
  {
   "cell_type": "code",
   "execution_count": 4,
   "metadata": {},
   "outputs": [
    {
     "name": "stderr",
     "output_type": "stream",
     "text": [
      "/tmp/ipykernel_560/4206251447.py:6: DtypeWarning: Columns (0) have mixed types. Specify dtype option on import or set low_memory=False.\n",
      "  data = pd.read_csv('/myProject/yelp_database.csv')\n"
     ]
    }
   ],
   "source": [
    "import sqlite3\n",
    "import random\n",
    "import string\n",
    "import pandas as pd\n",
    "\n",
    "data = pd.read_csv('/myProject/yelp_database.csv')\n",
    "\n",
    "data.fillna('Unknown', inplace=True)\n",
    "\n",
    "# Connect to SQLite database (creates it if it doesn't exist)\n",
    "conn = sqlite3.connect('yelp.db')\n",
    "cursor = conn.cursor()\n",
    "\n",
    "# Create a sample table\n",
    "cursor.execute('''\n",
    "CREATE TABLE IF NOT EXISTS yelp (\n",
    "    Phone INT NOT NULL,\n",
    "    Organization VARCHAR(255) NOT NULL,\n",
    "\tRating FLOAT NOT NULL,\n",
    "\tNumberReview INT NOT NULL,\n",
    "    Category VARCHAR(255) NOT NULL,\n",
    "    State VARCHAR(255) NOT NULL,\n",
    "    City VARCHAR(255) NOT NULL,\n",
    "    Street VARCHAR(255),\n",
    "    Building VARCHAR(255) NOT NULL\n",
    "    \n",
    ");\n",
    "''')\n",
    "\n",
    "# Insert data from CSV into the database\n",
    "data.to_sql('yelp', conn, if_exists='append', index=False)\n",
    "\n",
    "# Commit and close the connection\n",
    "conn.commit()\n",
    "conn.close()"
   ]
  },
  {
   "cell_type": "code",
   "execution_count": null,
   "metadata": {},
   "outputs": [],
   "source": []
  }
 ],
 "metadata": {
  "kernelspec": {
   "display_name": "Python 3 (ipykernel)",
   "language": "python",
   "name": "python3"
  },
  "language_info": {
   "codemirror_mode": {
    "name": "ipython",
    "version": 3
   },
   "file_extension": ".py",
   "mimetype": "text/x-python",
   "name": "python",
   "nbconvert_exporter": "python",
   "pygments_lexer": "ipython3",
   "version": "3.8.13"
  }
 },
 "nbformat": 4,
 "nbformat_minor": 4
}
